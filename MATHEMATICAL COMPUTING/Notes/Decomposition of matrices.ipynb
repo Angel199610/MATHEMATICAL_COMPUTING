{
 "cells": [
  {
   "cell_type": "markdown",
   "metadata": {},
   "source": [
    "1. WEMBABAZI VIVIAN RITAH       2023/DSCE/0093/SS\n",
    "2. NAMARA RACHEAL               2023/DCSE/0071/SS\n",
    "3. ACHOLA GLORIA FORTUNATE      2023/DCSE/0001/SS\n",
    "4. NASIRUMBI MARTHA             2023/DSCE/0084/SS\n",
    "5. NANTEZA DORCUS               2023/DSCE/0080/SS\n",
    "6. NANTEZA ANGELLA              2023/DSCE/00106/SS\n",
    "7. MBABAZI ANGEL                2023/DSCE/0040/SS\n",
    "8. NAMUKOSE JOLLINE EDRIANA     2023/DSCE/0077/SS\n",
    "REFERENCES: Shecodes Athena"
   ]
  },
  {
   "cell_type": "markdown",
   "metadata": {},
   "source": [
    "MATRIX DECOMPOSITION\n",
    "\n",
    "Matrix decomposition, also known as matrix factorization, involves describing a given matrix using its constituent elements\n",
    "\n",
    "Singular-Value Decomposition\n",
    "The Singular-Value Decomposition, or SVD for short, is a matrix decomposition method for reducing a matrix to its constituent parts in order to make certain subsequent matrix calculations simpler.\n",
    "\n",
    "For the case of simplicity we will focus on the SVD for real-valued matrices and ignore the case for complex numbers.\n",
    "\n",
    "A = U . Sigma . V^T\n",
    "Where A is the real m x n matrix that we wish to decompose, U is an m x m matrix, Sigma (often represented by the uppercase Greek letter Sigma) is an m x n diagonal matrix, and V^T is the  transpose of an n x n matrix where T is a superscript.\n",
    "\n",
    "LU Decomposition (LU factorization):\n",
    "\n",
    "LU decomposition factors a matrix into the product of a lower triangular matrix (L) and an upper triangular matrix (U).\n",
    "A = LU, where A is the original matrix.\n",
    "QR Decomposition (QR factorization):\n",
    "\n",
    "QR decomposition factors a matrix into the product of an orthogonal matrix (Q) and an upper triangular matrix (R).\n",
    "A = QR, where A is the original matrix.\n",
    "\n",
    "Singular-Value Decomposition\n",
    "\n",
    "In this example, we first import the numpy library and create a sample matrix A. Then, we use the np.linalg.svd function to perform Singular Value Decomposition. This function returns three matrices: U, S, and Vt.\n",
    "\n",
    "U contains the left singular vectors.\n",
    "S contains the singular values as a 1D array. To obtain a diagonal matrix, we use np.diag(S).\n",
    "Vt contains the right singular vectors transposed.\n",
    "You can run this code in a Python environment with NumPy installed. Keep in mind that this is just an example of SVD, and similar code structures would be used for other types of matrix decompositions, with adjustments based on the specific decomposition method you're using."
   ]
  },
  {
   "cell_type": "code",
   "execution_count": 1,
   "metadata": {},
   "outputs": [
    {
     "name": "stdout",
     "output_type": "stream",
     "text": [
      "[[1 2]\n",
      " [3 4]\n",
      " [5 6]]\n",
      "[[-0.2298477   0.88346102  0.40824829]\n",
      " [-0.52474482  0.24078249 -0.81649658]\n",
      " [-0.81964194 -0.40189603  0.40824829]]\n",
      "[9.52551809 0.51430058]\n",
      "[[-0.61962948 -0.78489445]\n",
      " [-0.78489445  0.61962948]]\n"
     ]
    }
   ],
   "source": [
    "# Singular-value decomposition\n",
    "#The example below defines a 3×2 matrix and calculates the Singular-value decomposition.\n",
    "from numpy import array\n",
    "from scipy.linalg import svd #Scipy is a scientific computing for python & imports all functions from numpy \n",
    "#and linalg it means linear algebra, svd Singular-Value Decomposition\n",
    "# lets define a matrix\n",
    "A = array([[1, 2], [3, 4], [5, 6]])\n",
    "print(A)\n",
    "# SVD\n",
    "#Where A is the real m x n matrix that we wish to decompose, \n",
    "# U is an m x m matrix, Sigma is an m x n diagonal matrix, \n",
    "# and V^T is the  transpose of an n x n matrix where T is a superscript.\n",
    "U, s, VT = svd(A)\n",
    "print(U)\n",
    "print(s)\n",
    "print(VT)"
   ]
  },
  {
   "cell_type": "code",
   "execution_count": 1,
   "metadata": {},
   "outputs": [
    {
     "name": "stdout",
     "output_type": "stream",
     "text": [
      "[[1 2]\n",
      " [3 4]\n",
      " [5 6]]\n",
      "[[-0.16903085  0.89708523  0.40824829]\n",
      " [-0.50709255  0.27602622 -0.81649658]\n",
      " [-0.84515425 -0.34503278  0.40824829]]\n",
      "[[-5.91607978 -7.43735744]\n",
      " [ 0.          0.82807867]\n",
      " [ 0.          0.        ]]\n",
      "[[1. 2.]\n",
      " [3. 4.]\n",
      " [5. 6.]]\n"
     ]
    }
   ],
   "source": [
    "# QR decomposition\n",
    "from numpy import array\n",
    "from numpy.linalg import qr\n",
    "# define a 3x2 matrix\n",
    "A = array([[1, 2], [3, 4], [5, 6]])\n",
    "print(A)\n",
    "# QR decomposition\n",
    "Q, R = qr(A, 'complete')\n",
    "print(Q)\n",
    "print(R)\n",
    "# reconstruct\n",
    "B = Q.dot(R)\n",
    "print(B)"
   ]
  },
  {
   "cell_type": "code",
   "execution_count": 4,
   "metadata": {},
   "outputs": [
    {
     "name": "stdout",
     "output_type": "stream",
     "text": [
      "[[-0.2298477   0.88346102  0.40824829]\n",
      " [-0.52474482  0.24078249 -0.81649658]\n",
      " [-0.81964194 -0.40189603  0.40824829]]\n",
      "[9.52551809 0.51430058]\n",
      "[[-0.61962948 -0.78489445]\n",
      " [-0.78489445  0.61962948]]\n"
     ]
    }
   ],
   "source": [
    "import numpy as np\n",
    "#define a martix\n",
    "A = np.array([[1, 2],\n",
    "              [3, 4],\n",
    "              [5, 6]])\n",
    "\n",
    "# performm SVD\n",
    "U, S, VT = np.linalg.svd(A)\n",
    "\n",
    "print(U)\n",
    "print(S)\n",
    "print(VT)"
   ]
  },
  {
   "cell_type": "code",
   "execution_count": 3,
   "metadata": {},
   "outputs": [
    {
     "name": "stdout",
     "output_type": "stream",
     "text": [
      "[[1 2 3]\n",
      " [4 5 6]\n",
      " [7 8 9]]\n",
      "[[0. 1. 0.]\n",
      " [0. 0. 1.]\n",
      " [1. 0. 0.]]\n",
      "[[1.         0.         0.        ]\n",
      " [0.14285714 1.         0.        ]\n",
      " [0.57142857 0.5        1.        ]]\n",
      "[[7.         8.         9.        ]\n",
      " [0.         0.85714286 1.71428571]\n",
      " [0.         0.         0.        ]]\n",
      "[[1. 2. 3.]\n",
      " [4. 5. 6.]\n",
      " [7. 8. 9.]]\n"
     ]
    }
   ],
   "source": [
    "# LU decomposition\n",
    "from numpy import array\n",
    "from scipy.linalg import lu\n",
    "# define a square matrix\n",
    "A = array([[1, 2, 3], [4, 5, 6], [7, 8, 9]])\n",
    "print(A)\n",
    "# LU decomposition\n",
    "P, L, U = lu(A)\n",
    "print(P)\n",
    "print(L)\n",
    "print(U)\n",
    "# reconstruct\n",
    "B = P.dot(L).dot(U)\n",
    "print(B)"
   ]
  }
 ],
 "metadata": {
  "kernelspec": {
   "display_name": "Python 3",
   "language": "python",
   "name": "python3"
  },
  "language_info": {
   "codemirror_mode": {
    "name": "ipython",
    "version": 3
   },
   "file_extension": ".py",
   "mimetype": "text/x-python",
   "name": "python",
   "nbconvert_exporter": "python",
   "pygments_lexer": "ipython3",
   "version": "3.11.4"
  }
 },
 "nbformat": 4,
 "nbformat_minor": 2
}
