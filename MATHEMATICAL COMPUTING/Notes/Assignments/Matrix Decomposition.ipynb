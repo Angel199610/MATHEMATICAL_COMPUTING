{
 "cells": [
  {
   "cell_type": "markdown",
   "metadata": {},
   "source": [
    "Matrix Decomposition\n",
    "\n",
    "A matrix decomposition is a way of reducing a matrix into its constituent parts.\n",
    "It is an approach that can simplify more complex matrix operations that can be performed on the decomposed matrix rather than on the original matrix itself.\n",
    "A common analogy for matrix decomposition is the factoring of numbers, such as the factoring of 10 into 2 x 5. For this reason, matrix decomposition is also called matrix factorization. Like factoring real values, there are many ways to decompose a matrix, hence there are a range of different matrix decomposition techniques.\n",
    "Two simple and widely used matrix decomposition methods are the LU matrix decomposition and the QR matrix decomposition.\n",
    "Next, we will take a closer look at each of these methods.\n",
    "\n",
    "LU Matrix Decomposition\n",
    "The LU decomposition is for square matrices and decomposes a matrix into L and U components.\n",
    "1\tA = L . U\n",
    "Or, without the dot notation.\n",
    "1\tA = LU\n",
    "Where A is the square matrix that we wish to decompose, L is the lower triangle matrix and U is the upper triangle matrix.\n",
    "The factors L and U are triangular matrices. The factorization that comes from elimination is A = LU.\n",
    "The LU decomposition is found using an iterative numerical process and can fail for those matrices that cannot be decomposed or decomposed easily.\n",
    "A variation of this decomposition that is numerically more stable to solve in practice is called the LUP decomposition, or the LU decomposition with partial pivoting.\n",
    "1\tA = P . L . U\n",
    "The rows of the parent matrix are re-ordered to simplify the decomposition process and the additional P matrix specifies a way to permute the result or return the result to the original order. There are also other variations of the LU.\n",
    "The LU decomposition is often used to simplify the solving of systems of linear equations, such as finding the coefficients in a linear regression, as well as in calculating the determinant and inverse of a matrix.\n",
    "The LU decomposition can be implemented in Python with the lu() function. More specifically, this function calculates an LPU decomposition.\n",
    "\n",
    "The example below first defines a 3×3 square matrix. The LU decomposition is calculated, then the original matrix is reconstructed from the components."
   ]
  },
  {
   "cell_type": "code",
   "execution_count": 2,
   "metadata": {},
   "outputs": [
    {
     "name": "stdout",
     "output_type": "stream",
     "text": [
      "[[1 2 3]\n",
      " [4 5 6]\n",
      " [7 8 9]]\n",
      "[[0. 1. 0.]\n",
      " [0. 0. 1.]\n",
      " [1. 0. 0.]]\n",
      "[[1.         0.         0.        ]\n",
      " [0.14285714 1.         0.        ]\n",
      " [0.57142857 0.5        1.        ]]\n",
      "[[7.         8.         9.        ]\n",
      " [0.         0.85714286 1.71428571]\n",
      " [0.         0.         0.        ]]\n",
      "[[1. 2. 3.]\n",
      " [4. 5. 6.]\n",
      " [7. 8. 9.]]\n"
     ]
    }
   ],
   "source": [
    "# LU decomposition\n",
    "from numpy import array\n",
    "from scipy.linalg import lu\n",
    "# define a square matrix\n",
    "A = array([[1, 2, 3], [4, 5, 6], [7, 8, 9]])\n",
    "print(A)\n",
    "# LU decomposition\n",
    "P, L, U = lu(A)\n",
    "print(P)\n",
    "print(L)\n",
    "print(U)\n",
    "# reconstruct\n",
    "B = P.dot(L).dot(U)\n",
    "print(B)\n"
   ]
  },
  {
   "cell_type": "markdown",
   "metadata": {},
   "source": [
    "QR Matrix Decomposition\n",
    "\n",
    "The QR decomposition is for m x n matrices (not limited to square matrices) and decomposes a matrix into Q and R components.\n",
    "1\tA = Q . R\n",
    "Or, without the dot notation.\n",
    "1\tA = QR\n",
    "Where A is the matrix that we wish to decompose, Q a matrix with the size m x m, and R is an upper triangle matrix with the size m x n.\n",
    "The QR decomposition is found using an iterative numerical method that can fail for those matrices that cannot be decomposed, or decomposed easily.\n",
    "Like the LU decomposition, the QR decomposition is often used to solve systems of linear equations, although is not limited to square matrices.\n",
    "The QR decomposition can be implemented in NumPy using the qr() function. By default, the function returns the Q and R matrices with smaller or ‘reduced’ dimensions that is more economical. We can change this to return the expected sizes of m x m for Q and m x n for R by specifying the mode argument as ‘complete’, although this is not required for most applications.\n",
    "\n",
    "The example below defines a 3×2 matrix, calculates the QR decomposition, then reconstructs the original matrix from the decomposed elements."
   ]
  },
  {
   "cell_type": "code",
   "execution_count": 3,
   "metadata": {},
   "outputs": [
    {
     "name": "stdout",
     "output_type": "stream",
     "text": [
      "[[1 2]\n",
      " [3 4]\n",
      " [5 6]]\n",
      "[[-0.16903085  0.89708523  0.40824829]\n",
      " [-0.50709255  0.27602622 -0.81649658]\n",
      " [-0.84515425 -0.34503278  0.40824829]]\n",
      "[[-5.91607978 -7.43735744]\n",
      " [ 0.          0.82807867]\n",
      " [ 0.          0.        ]]\n",
      "[[1. 2.]\n",
      " [3. 4.]\n",
      " [5. 6.]]\n"
     ]
    }
   ],
   "source": [
    "# QR decomposition\n",
    "from numpy import array\n",
    "from numpy.linalg import qr\n",
    "# define a 3x2 matrix\n",
    "A = array([[1, 2], [3, 4], [5, 6]])\n",
    "print(A)\n",
    "# QR decomposition\n",
    "Q, R = qr(A, 'complete')\n",
    "print(Q)\n",
    "print(R)\n",
    "# reconstruct\n",
    "B = Q.dot(R)\n",
    "print(B)"
   ]
  },
  {
   "cell_type": "markdown",
   "metadata": {},
   "source": [
    "Cholesky Decomposition\n",
    "\n",
    "The Cholesky decomposition is for square symmetric matrices where all eigenvalues are greater than zero, so-called positive definite matrices.\n",
    "For our interests in machine learning, we will focus on the Cholesky decomposition for real-valued matrices and ignore the cases when working with complex numbers.\n",
    "The decomposition is defined as follows:\n",
    "1\tA = L . L^T\n",
    "Or without the dot notation:\n",
    "1\tA = LL^T\n",
    "Where A is the matrix being decomposed, L is the lower triangular matrix and L^T is the transpose of L.\n",
    "The decompose can also be written as the product of the upper triangular matrix, for example:\n",
    "1\tA = U^T . U\n",
    "Where U is the upper triangular matrix.\n",
    "The Cholesky decomposition is used for solving linear least squares for linear regression, as well as simulation and optimization methods.\n",
    "\n",
    "When decomposing symmetric matrices, the Cholesky decomposition is nearly twice as efficient as the LU decomposition and should be preferred in these cases.\n",
    "\n",
    "While symmetric, positive definite matrices are rather special, they occur quite frequently in some applications, so their special factorization, called Cholesky decomposition, is good to know about. When you can use it, Cholesky decomposition is about a factor of two faster than alternative methods for solving linear equations.\n",
    "\n",
    "The Cholesky decomposition can be implemented in NumPy by calling the cholesky() function. The function only returns L as we can easily access the L transpose as needed.\n",
    "\n",
    "The example below defines a 3×3 symmetric and positive definite matrix and calculates the Cholesky decomposition, then the original matrix is reconstructed."
   ]
  },
  {
   "cell_type": "code",
   "execution_count": 4,
   "metadata": {},
   "outputs": [
    {
     "name": "stdout",
     "output_type": "stream",
     "text": [
      "[[2 1 1]\n",
      " [1 2 1]\n",
      " [1 1 2]]\n",
      "[[1.41421356 0.         0.        ]\n",
      " [0.70710678 1.22474487 0.        ]\n",
      " [0.70710678 0.40824829 1.15470054]]\n",
      "[[2. 1. 1.]\n",
      " [1. 2. 1.]\n",
      " [1. 1. 2.]]\n"
     ]
    }
   ],
   "source": [
    "12\t# Cholesky decomposition\n",
    "from numpy import array\n",
    "from numpy.linalg import cholesky\n",
    "# define a 3x3 matrix\n",
    "A = array([[2, 1, 1], [1, 2, 1], [1, 1, 2]])\n",
    "print(A)\n",
    "# Cholesky decomposition\n",
    "L = cholesky(A)\n",
    "print(L)\n",
    "# reconstruct\n",
    "B = L.dot(L.T)\n",
    "print(B)"
   ]
  },
  {
   "cell_type": "code",
   "execution_count": null,
   "metadata": {},
   "outputs": [],
   "source": [
    "pip install scripy"
   ]
  },
  {
   "cell_type": "code",
   "execution_count": null,
   "metadata": {},
   "outputs": [],
   "source": []
  }
 ],
 "metadata": {
  "kernelspec": {
   "display_name": "Python 3",
   "language": "python",
   "name": "python3"
  },
  "language_info": {
   "codemirror_mode": {
    "name": "ipython",
    "version": 3
   },
   "file_extension": ".py",
   "mimetype": "text/x-python",
   "name": "python",
   "nbconvert_exporter": "python",
   "pygments_lexer": "ipython3",
   "version": "3.11.4"
  },
  "orig_nbformat": 4
 },
 "nbformat": 4,
 "nbformat_minor": 2
}
